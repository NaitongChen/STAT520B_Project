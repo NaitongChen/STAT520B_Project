{
 "cells": [
  {
   "cell_type": "code",
   "execution_count": null,
   "id": "hybrid-drilling",
   "metadata": {},
   "outputs": [],
   "source": [
    "μ = vec([1. 1.])\n",
    "Σ = [1. 0.5;\n",
    "     0.5 1.]\n",
    "logπ = x -> logpdf(MvNormal(μ, Σ), x)\n",
    "γ = k -> 0.1/sqrt(k)\n",
    "Ngrad = 400\n",
    "Nobj = 400\n",
    "# ψ0 = vec([5. 5. 2. 0. 0. 2.])\n",
    "# diag_sig = false\n",
    "ψ0 = vec([5. 5. 3. 3.])\n",
    "diag_sig = true\n",
    "d = 2\n",
    "num_iter = 1000\n",
    "\n",
    "μs, Σs, obj = ADVI(logπ, grad, γ, Ngrad, Nobj, ψ0, d, num_iter, transform, diag_sig);\n",
    "\n",
    "println(μs[:,num_iter])\n",
    "println(Σs[:,:,num_iter])\n",
    "\n",
    "plot([1:1:num_iter;], μs[1,:])"
   ]
  }
 ],
 "metadata": {
  "kernelspec": {
   "display_name": "Julia 1.3.1",
   "language": "julia",
   "name": "julia-1.3"
  },
  "language_info": {
   "file_extension": ".jl",
   "mimetype": "application/julia",
   "name": "julia",
   "version": "1.3.1"
  }
 },
 "nbformat": 4,
 "nbformat_minor": 5
}
