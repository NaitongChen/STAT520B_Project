{
 "cells": [
  {
   "cell_type": "code",
   "execution_count": null,
   "id": "hybrid-drilling",
   "metadata": {},
   "outputs": [],
   "source": [
    "μ = vec([1. 1.])\n",
    "Σ = [1. 0.5;\n",
    "     0.5 1.]\n",
    "logπ = x -> logpdf(MvNormal(μ, Σ), x)\n",
    "γ = k -> 0.1/sqrt(k)\n",
    "Ngrad = 400\n",
    "Nobj = 400\n",
    "# ψ0 = vec([5. 5. 2. 0. 0. 2.])\n",
    "# diag_sig = false\n",
    "ψ0 = vec([5. 5. 3. 3.])\n",
    "diag_sig = true\n",
    "d = 2\n",
    "num_iter = 1000\n",
    "\n",
    "μs, Σs, obj = ADVI(logπ, grad, γ, Ngrad, Nobj, ψ0, d, num_iter, transform, diag_sig);\n",
    "\n",
    "println(μs[:,num_iter])\n",
    "println(Σs[:,:,num_iter])\n",
    "\n",
    "plot([1:1:num_iter;], μs[1,:])"
   ]
  },
  {
   "cell_type": "code",
   "execution_count": null,
   "id": "tracked-mistress",
   "metadata": {},
   "outputs": [],
   "source": [
    "logπ = x -> logpdf(Beta(20,10), x)\n",
    "γ = k -> 0.1/sqrt(k)\n",
    "Nobj = 10\n",
    "ψ0 = vec([1., 1.])\n",
    "num_iter = 1000\n",
    "family = \"gaussian\"\n",
    "\n",
    "ψs = ADVI(logπ, grad_gaussian, γ, Ngrad, ψ0, num_iter, constrain_gaussian, κ_gaussian, family);\n",
    "\n",
    "println(ψs[:,num_iter])\n",
    "\n",
    "samples = sample_gaussian_q(5000, ψs[:,num_iter])\n",
    "histogram(samples, normed=true,bins=50, alpha=0.3)\n",
    "plot!(0:0.001:1, x -> pdf(Beta(20, 10), x), label = \"Beta(α, β)\", linewidth=1.5)"
   ]
  },
  {
   "cell_type": "code",
   "execution_count": null,
   "id": "warming-perspective",
   "metadata": {},
   "outputs": [],
   "source": [
    "logπ = x -> logpdf(Beta(1,5), x)\n",
    "γ = k -> 0.1/sqrt(k)\n",
    "Nobj = 10\n",
    "ψ0 = 0.5\n",
    "num_iter = 1000\n",
    "family = \"exponential\"\n",
    "\n",
    "ψs = ADVI(logπ, grad_exponential, γ, Ngrad, ψ0, num_iter, constrain_exponential, κ_exponential, family);\n",
    "\n",
    "println(ψs[num_iter])\n",
    "\n",
    "samples = sample_exponential_q(5000, ψs[num_iter])\n",
    "histogram(samples, normed=true,bins=50, alpha=0.3)\n",
    "plot!(0:0.001:1, x -> pdf(Beta(1, 5), x), label = \"Beta(α, β)\", linewidth=1.5)"
   ]
  }
 ],
 "metadata": {
  "kernelspec": {
   "display_name": "Julia 1.3.1",
   "language": "julia",
   "name": "julia-1.3"
  },
  "language_info": {
   "file_extension": ".jl",
   "mimetype": "application/julia",
   "name": "julia",
   "version": "1.3.1"
  }
 },
 "nbformat": 4,
 "nbformat_minor": 5
}
